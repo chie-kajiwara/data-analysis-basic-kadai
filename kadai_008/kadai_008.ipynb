{
  "nbformat": 4,
  "nbformat_minor": 0,
  "metadata": {
    "colab": {
      "provenance": []
    },
    "kernelspec": {
      "name": "python3",
      "display_name": "Python 3"
    },
    "language_info": {
      "name": "python"
    }
  },
  "cells": [
    {
      "cell_type": "code",
      "execution_count": 13,
      "metadata": {
        "colab": {
          "base_uri": "https://localhost:8080/"
        },
        "id": "TCKQM-FwUUt5",
        "outputId": "0e81f8a2-8b1a-4369-e7a4-04e00f69314a"
      },
      "outputs": [
        {
          "output_type": "stream",
          "name": "stdout",
          "text": [
            "(124, 13) (54, 13) (124,) (54,)\n"
          ]
        }
      ],
      "source": [
        "# Step1. 8章の「8.4 scikit-learnの基本的な使い方」の「1. サンプルデータの取得」、「2. サンプルデータの分割」で記載の「記述するコード」を記述して実行する。\n",
        "from sklearn.datasets import load_wine\n",
        "\n",
        "dataset = load_wine()\n",
        "\n",
        "import pandas as pd\n",
        "df = pd.DataFrame(data=dataset.data, columns=dataset.feature_names)\n",
        "\n",
        "df['category'] = dataset.target\n",
        "\n",
        "X = dataset.data\n",
        "y = dataset.target\n",
        "\n",
        "from sklearn.model_selection import train_test_split\n",
        "x_train, x_test, y_train, y_test = train_test_split(X, y, test_size=0.3, random_state=5)\n"
      ]
    },
    {
      "cell_type": "code",
      "source": [
        "# Step2. 「3. 予測モデルのインスタンス化」で記載の「記述するコード」を、「決定木」に対応するコードから「ランダムフォレスト」に対応するコードに変更して実行する。\n",
        "from sklearn.ensemble import RandomForestClassifier\n",
        "model = RandomForestClassifier()\n"
      ],
      "metadata": {
        "id": "z4-kjcceWhVv"
      },
      "execution_count": 22,
      "outputs": []
    },
    {
      "cell_type": "code",
      "source": [
        "# Step3. 「4. 予測モデルの学習」、「5. 予測モデルの評価」で記載の「記述するコード」を記述して実行する。\n",
        "model.fit(x_train, y_train)\n",
        "y_pred = model.predict(x_test)\n",
        "y_pred\n",
        "\n",
        "from sklearn.metrics import accuracy_score\n",
        "accuracy_score(y_test, y_pred)"
      ],
      "metadata": {
        "colab": {
          "base_uri": "https://localhost:8080/"
        },
        "id": "pHtqoZQDwBUI",
        "outputId": "bacb0bf2-991c-43a6-8c6b-390a62c22c24"
      },
      "execution_count": 23,
      "outputs": [
        {
          "output_type": "execute_result",
          "data": {
            "text/plain": [
              "0.9814814814814815"
            ]
          },
          "metadata": {},
          "execution_count": 23
        }
      ]
    }
  ]
}